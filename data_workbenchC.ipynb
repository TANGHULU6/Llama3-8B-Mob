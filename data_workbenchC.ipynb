{
 "cells": [
  {
   "cell_type": "code",
   "execution_count": 1,
   "metadata": {},
   "outputs": [
    {
     "name": "stdout",
     "output_type": "stream",
     "text": [
      "文件总行数: 3000\n",
      "Empty DataFrame\n",
      "Columns: [user_id, status, assistant_json]\n",
      "Index: []\n"
     ]
    }
   ],
   "source": [
    "import pandas as pd\n",
    "\n",
    "# 读取CSV文件\n",
    "file_path = 'wandb_export_2024-09-18T10_46_07.830+08_00.csv'  # 替换为实际文件路径\n",
    "df = pd.read_csv(file_path)\n",
    "\n",
    "# 查看总行数\n",
    "total_rows = len(df)\n",
    "print(f\"文件总行数: {total_rows}\")\n",
    "\n",
    "filtered_df = df[df['status'] == 'failed']\n",
    "\n",
    "# 查看筛选后的行\n",
    "print(filtered_df)\n"
   ]
  },
  {
   "cell_type": "code",
   "execution_count": 2,
   "metadata": {},
   "outputs": [],
   "source": [
    "# 去掉status为failed的行\n",
    "df = df[df['status'] != 'failed']"
   ]
  },
  {
   "cell_type": "code",
   "execution_count": 3,
   "metadata": {},
   "outputs": [
    {
     "name": "stdout",
     "output_type": "stream",
     "text": [
      "2985\n",
      "未命中：\n",
      "set()\n",
      "仍然失败：\n",
      "[]\n"
     ]
    }
   ],
   "source": [
    "fix_df = pd.read_csv('wandb_export_2024-09-19T01_42_01.176+08_00.csv')  # 替换为你的修正文件路径\n",
    "\n",
    "# 获取需要替换的user_id\n",
    "# replace_user_ids = fix_df['user_id'].unique()\n",
    "replace_user_ids = [17025, 17032, 17421, 17914, 18429, 18501, 18993, 19156, 19169, 19266, 19308, 19480, 19483, 19496, 19841]\n",
    "# 从原始df中删除需要替换的user_id数据\n",
    "df = df[~df['user_id'].isin(replace_user_ids)]\n",
    "print(len(df))\n",
    "print(\"未命中：\")\n",
    "print(set(replace_user_ids) - set(fix_df['user_id'].unique()))\n",
    "fix_df = fix_df[fix_df['status'] == 'success']\n",
    "fix_df = fix_df[fix_df['user_id'].isin(replace_user_ids)]\n",
    "print(\"仍然失败：\")\n",
    "print(sorted(set(replace_user_ids) - set(fix_df['user_id'].unique())))\n",
    "\n",
    "# 将fix_df中的数据合并到df中\n",
    "df = pd.concat([df, fix_df], ignore_index=True)"
   ]
  },
  {
   "cell_type": "code",
   "execution_count": 4,
   "metadata": {},
   "outputs": [
    {
     "name": "stdout",
     "output_type": "stream",
     "text": [
      "压缩后的文件总行数: 3000\n",
      "前几行内容:\n",
      "   user_id   status                                     assistant_json\n",
      "0    17000  success  {\"reason\": \"The individual's trajectory shows ...\n",
      "1    17001  success  {\"reason\": \"The individual's trajectory shows ...\n",
      "2    17002  success  {\"reason\": \"The individual's trajectory shows ...\n",
      "3    17003  success  {\"reason\": \"The individual's trajectory shows ...\n",
      "4    17004  success  {\"reason\": \"The individual's trajectory shows ...\n"
     ]
    }
   ],
   "source": [
    "# 重新排序（按user_id排序）\n",
    "df_sorted = df.sort_values(by='user_id').reset_index(drop=True)\n",
    "# 查看总行数\n",
    "total_rows = len(df_sorted)\n",
    "print(f\"压缩后的文件总行数: {total_rows}\")\n",
    "\n",
    "# 查看前几行\n",
    "print(\"前几行内容:\")\n",
    "print(df_sorted.head())"
   ]
  },
  {
   "cell_type": "code",
   "execution_count": 5,
   "metadata": {},
   "outputs": [],
   "source": [
    "import json\n",
    "\n",
    "def parse_json_column(json_str):\n",
    "    return json.loads(json_str)\n",
    "\n",
    "# 解析assistant_json列\n",
    "df_sorted['parsed_json'] = df_sorted['assistant_json'].apply(parse_json_column)"
   ]
  },
  {
   "cell_type": "code",
   "execution_count": 6,
   "metadata": {},
   "outputs": [
    {
     "name": "stdout",
     "output_type": "stream",
     "text": [
      "提取后的前几行内容:\n",
      "   user_id   status                                         prediction\n",
      "0    17000  success  [[60, 14, 35, 140], [60, 15, 34, 139], [60, 16...\n",
      "1    17001  success  [[60, 15, 8, 180], [60, 16, 11, 194], [60, 17,...\n",
      "2    17002  success  [[60, 16, 11, 177], [60, 17, 8, 177], [60, 19,...\n",
      "3    17003  success  [[60, 14, 26, 178], [60, 15, 26, 178], [60, 16...\n",
      "4    17004  success  [[60, 13, 36, 150], [60, 18, 35, 148], [60, 19...\n",
      "压缩后的文件总行数: 3000\n"
     ]
    }
   ],
   "source": [
    "df_sorted['prediction'] = df_sorted['parsed_json'].apply(lambda x: x['prediction'] if x else None)\n",
    "\n",
    "# 查看解析后的数据\n",
    "print(\"提取后的前几行内容:\")\n",
    "print(df_sorted[['user_id', 'status', 'prediction']].head())\n",
    "\n",
    "# 保存提取后的结果为新文件\n",
    "total_rows = len(df_sorted)\n",
    "print(f\"压缩后的文件总行数: {total_rows}\")"
   ]
  },
  {
   "cell_type": "code",
   "execution_count": 7,
   "metadata": {},
   "outputs": [
    {
     "name": "stdout",
     "output_type": "stream",
     "text": [
      "   user_id   d   t   x    y\n",
      "0    17000  60  14  35  140\n",
      "1    17000  60  15  34  139\n",
      "2    17000  60  16  35  139\n",
      "3    17000  60  17  34  139\n",
      "4    17000  60  18  47  140\n",
      "文件总行数: 449308\n",
      "展开后的数据包含 3000 个不同的用户。\n"
     ]
    }
   ],
   "source": [
    "expanded_data = []\n",
    "\n",
    "# 遍历每一行\n",
    "for index, row in df_sorted.iterrows():\n",
    "    user_id = row['user_id']\n",
    "    predictions = row['prediction']\n",
    "    \n",
    "    # 遍历每个预测值，将其添加到expanded_data列表中\n",
    "    for pred in predictions:  # 使用eval解析字符串形式的列表\n",
    "        expanded_data.append([user_id] + pred)\n",
    "\n",
    "# 将展开的数据转换为DataFrame\n",
    "expanded_df = pd.DataFrame(expanded_data, columns=['user_id', 'd', 't', 'x', 'y'])\n",
    "\n",
    "# 查看转换后的数据\n",
    "print(expanded_df.head())\n",
    "total_rows = len(expanded_df)\n",
    "print(f\"文件总行数: {total_rows}\")\n",
    "# 确保 expanded_df 已经创建\n",
    "unique_users = expanded_df['user_id'].nunique()\n",
    "print(f\"展开后的数据包含 {unique_users} 个不同的用户。\")\n",
    "expanded_df.to_csv('cityC.csv.gz', compression='gzip', index=False, header=False)"
   ]
  }
 ],
 "metadata": {
  "kernelspec": {
   "display_name": "Bl4mode",
   "language": "python",
   "name": "python3"
  },
  "language_info": {
   "codemirror_mode": {
    "name": "ipython",
    "version": 3
   },
   "file_extension": ".py",
   "mimetype": "text/x-python",
   "name": "python",
   "nbconvert_exporter": "python",
   "pygments_lexer": "ipython3",
   "version": "3.9.18"
  }
 },
 "nbformat": 4,
 "nbformat_minor": 2
}
